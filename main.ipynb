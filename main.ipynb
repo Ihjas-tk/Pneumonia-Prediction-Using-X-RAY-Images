{
 "cells": [
  {
   "cell_type": "code",
   "execution_count": 31,
   "id": "public-weapon",
   "metadata": {},
   "outputs": [],
   "source": [
    "from werkzeug.wrappers import Request, Response\n",
    "from flask import *\n",
    "import tensorflow as tf\n",
    "from tensorflow.keras.models import load_model\n",
    "import numpy as np\n",
    "from tensorflow.keras.preprocessing import image\n",
    "app.secret_key='some'\n",
    "model = load_model('mymodel.h5')\n",
    "\n",
    "app = Flask(__name__)\n",
    "\n",
    "@app.route(\"/\")\n",
    "def hello():\n",
    "    return render_template('index.html')"
   ]
  },
  {
   "cell_type": "code",
   "execution_count": null,
   "id": "premier-patient",
   "metadata": {},
   "outputs": [],
   "source": []
  },
  {
   "cell_type": "code",
   "execution_count": 32,
   "id": "expired-heart",
   "metadata": {},
   "outputs": [],
   "source": [
    "@app.route('/success', methods = ['POST'])  \n",
    "def success():  \n",
    "    if request.method == 'POST':  \n",
    "        f = request.files['file']  \n",
    "        f.save(f.filename)\n",
    "        test_image = image.load_img(f.filename, target_size=(64,64))\n",
    "        test_image = image.img_to_array(test_image)       \n",
    "        test_image = np.expand_dims(test_image,axis=0)\n",
    "        result = model.predict(test_image)\n",
    "        if (result[0][0]>.5):\n",
    "            va= 1\n",
    "        else:\n",
    "            va = 0\n",
    "        return render_template(\"success.html\", val = va)  "
   ]
  },
  {
   "cell_type": "code",
   "execution_count": null,
   "id": "adjusted-produce",
   "metadata": {},
   "outputs": [
    {
     "name": "stderr",
     "output_type": "stream",
     "text": [
      " * Running on http://localhost:9000/ (Press CTRL+C to quit)\n",
      "127.0.0.1 - - [29/Mar/2021 17:54:30] \"\u001b[37mGET / HTTP/1.1\u001b[0m\" 200 -\n",
      "127.0.0.1 - - [29/Mar/2021 17:54:30] \"\u001b[33mGET /css/style.css HTTP/1.1\u001b[0m\" 404 -\n",
      "127.0.0.1 - - [29/Mar/2021 17:54:30] \"\u001b[37mGET /static/style.css HTTP/1.1\u001b[0m\" 200 -\n"
     ]
    },
    {
     "name": "stdout",
     "output_type": "stream",
     "text": [
      "WARNING:tensorflow:10 out of the last 11 calls to <function Model.make_predict_function.<locals>.predict_function at 0x156b7eee0> triggered tf.function retracing. Tracing is expensive and the excessive number of tracings could be due to (1) creating @tf.function repeatedly in a loop, (2) passing tensors with different shapes, (3) passing Python objects instead of tensors. For (1), please define your @tf.function outside of the loop. For (2), @tf.function has experimental_relax_shapes=True option that relaxes argument shapes that can avoid unnecessary retracing. For (3), please refer to https://www.tensorflow.org/guide/function#controlling_retracing and https://www.tensorflow.org/api_docs/python/tf/function for  more details.\n"
     ]
    },
    {
     "name": "stderr",
     "output_type": "stream",
     "text": [
      "127.0.0.1 - - [29/Mar/2021 17:54:44] \"\u001b[37mPOST /success HTTP/1.1\u001b[0m\" 200 -\n",
      "127.0.0.1 - - [29/Mar/2021 17:54:44] \"\u001b[33mGET /css/style.css HTTP/1.1\u001b[0m\" 404 -\n",
      "127.0.0.1 - - [29/Mar/2021 17:54:55] \"\u001b[37mPOST /success HTTP/1.1\u001b[0m\" 200 -\n",
      "127.0.0.1 - - [29/Mar/2021 17:54:55] \"\u001b[33mGET /css/style.css HTTP/1.1\u001b[0m\" 404 -\n",
      "127.0.0.1 - - [29/Mar/2021 17:55:02] \"\u001b[37mPOST /success HTTP/1.1\u001b[0m\" 200 -\n",
      "127.0.0.1 - - [29/Mar/2021 17:55:02] \"\u001b[33mGET /css/style.css HTTP/1.1\u001b[0m\" 404 -\n",
      "127.0.0.1 - - [29/Mar/2021 17:55:08] \"\u001b[37mPOST /success HTTP/1.1\u001b[0m\" 200 -\n",
      "127.0.0.1 - - [29/Mar/2021 17:55:08] \"\u001b[33mGET /css/style.css HTTP/1.1\u001b[0m\" 404 -\n",
      "127.0.0.1 - - [29/Mar/2021 17:55:49] \"\u001b[37mGET / HTTP/1.1\u001b[0m\" 200 -\n"
     ]
    }
   ],
   "source": [
    "if __name__ == '__main__':\n",
    "    from werkzeug.serving import run_simple\n",
    "    run_simple('localhost', 9000, app)"
   ]
  },
  {
   "cell_type": "code",
   "execution_count": null,
   "id": "modified-breed",
   "metadata": {},
   "outputs": [],
   "source": []
  },
  {
   "cell_type": "code",
   "execution_count": null,
   "id": "every-emphasis",
   "metadata": {},
   "outputs": [],
   "source": []
  },
  {
   "cell_type": "code",
   "execution_count": null,
   "id": "appointed-drain",
   "metadata": {},
   "outputs": [],
   "source": []
  },
  {
   "cell_type": "code",
   "execution_count": 8,
   "id": "sustained-congress",
   "metadata": {},
   "outputs": [],
   "source": [
    "# import matplotlib.pyplot as plt\n",
    "# import matplotlib.image as mpimg\n",
    "\n",
    "# img = mpimg.imread('/Users/ihjas/documents/Git-Projects/Pneumonia_Prediction_using_X-RAY_images/chest_xray/chest_xray/train/NORMAL/NORMAL2-IM-1269-0001-0002.jpeg')\n",
    "# imgplot = plt.imshow(img)"
   ]
  },
  {
   "cell_type": "code",
   "execution_count": 5,
   "id": "black-coordinate",
   "metadata": {},
   "outputs": [],
   "source": [
    "# import tensorflow as tf\n",
    "# from tensorflow.keras.models import load_model\n",
    "# import numpy as np\n",
    "# from tensorflow.keras.preprocessing import image\n",
    "\n",
    "# model = load_model('mymodel.h5')\n",
    "\n",
    "\n",
    "# test_image = image.load_img('IM-0117-0001.jpeg', target_size=(64,64))\n",
    "# test_image = image.img_to_array(test_image)\n",
    "\n",
    "# test_image = np.expand_dims(test_image,axis=0)\n",
    "# result = model.predict(test_image)"
   ]
  },
  {
   "cell_type": "code",
   "execution_count": 7,
   "id": "perceived-jordan",
   "metadata": {},
   "outputs": [
    {
     "data": {
      "text/plain": [
       "0.0"
      ]
     },
     "execution_count": 7,
     "metadata": {},
     "output_type": "execute_result"
    }
   ],
   "source": [
    "result[0][0]"
   ]
  },
  {
   "cell_type": "code",
   "execution_count": 4,
   "id": "leading-albany",
   "metadata": {},
   "outputs": [],
   "source": []
  },
  {
   "cell_type": "code",
   "execution_count": null,
   "id": "coated-watch",
   "metadata": {},
   "outputs": [],
   "source": []
  },
  {
   "cell_type": "code",
   "execution_count": 5,
   "id": "incorporate-layout",
   "metadata": {},
   "outputs": [
    {
     "name": "stdout",
     "output_type": "stream",
     "text": [
      "(1, 64, 64, 3)\n",
      "[[1.]]\n"
     ]
    }
   ],
   "source": []
  },
  {
   "cell_type": "code",
   "execution_count": null,
   "id": "disciplinary-excitement",
   "metadata": {},
   "outputs": [],
   "source": []
  },
  {
   "cell_type": "code",
   "execution_count": null,
   "id": "fourth-matrix",
   "metadata": {},
   "outputs": [],
   "source": []
  }
 ],
 "metadata": {
  "kernelspec": {
   "display_name": "Python 3",
   "language": "python",
   "name": "python3"
  },
  "language_info": {
   "codemirror_mode": {
    "name": "ipython",
    "version": 3
   },
   "file_extension": ".py",
   "mimetype": "text/x-python",
   "name": "python",
   "nbconvert_exporter": "python",
   "pygments_lexer": "ipython3",
   "version": "3.8.6"
  }
 },
 "nbformat": 4,
 "nbformat_minor": 5
}
